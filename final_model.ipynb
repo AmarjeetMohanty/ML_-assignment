{
 "cells": [
  {
   "cell_type": "markdown",
   "metadata": {},
   "source": [
    "##**BITS F464 - Semester 1 - MACHINE LEARNING**\n",
    "--------------------------------------------------------------------------------\n",
    "\n",
    "**ASSIGNMENT 1 - LINEAR MODELS FOR REGRESSION AND CLASSIFICATION**\n",
    "--------------------------------------------------------------------------------\n",
    "***Team number:***\n",
    "\n",
    "---\n",
    "(*In Title case, separated with commas*)\n",
    "***Full names of all students in the team:***\n",
    "\n",
    "---\n",
    "(*Separated by commas*)\n",
    "***Id number of all students in the team:***\n"
   ]
  },
  {
   "cell_type": "markdown",
   "metadata": {},
   "source": [
    "# **_1. Dataset Generation_**"
   ]
  },
  {
   "cell_type": "markdown",
   "metadata": {},
   "source": [
    "You are given a sample Diabetes dataset. Using this, please develop your own dataset consisting of 500 records. You can use the given code to generate your own dataset. Submit the generated dataset as a .csv file along with your python notebook."
   ]
  },
  {
   "cell_type": "code",
   "execution_count": 14,
   "metadata": {},
   "outputs": [],
   "source": [
    "# %pip install sdv\n",
    "# %pip uninstall urllib3 --y\n",
    "# %pip install urllib3==1.26.7\n",
    "# exit()"
   ]
  },
  {
   "cell_type": "code",
   "execution_count": 15,
   "metadata": {},
   "outputs": [],
   "source": [
    "import pandas as pd\n",
    "import numpy as np\n",
    "from sdv.lite import SingleTablePreset\n",
    "from sdv.metadata import SingleTableMetadata\n",
    "from sklearn.metrics import accuracy_score\n",
    "from sklearn.metrics import confusion_matrix\n",
    "from sklearn.metrics import ConfusionMatrixDisplay\n",
    "import warnings"
   ]
  },
  {
   "cell_type": "code",
   "execution_count": 16,
   "metadata": {},
   "outputs": [],
   "source": [
    "# how to ignore warnings\n",
    "warnings.filterwarnings('ignore')"
   ]
  },
  {
   "cell_type": "code",
   "execution_count": 17,
   "metadata": {},
   "outputs": [],
   "source": [
    "real_data=pd.read_excel(\"diabetes2.xlsx\")\n",
    "\n",
    "metadata = SingleTableMetadata()\n",
    "metadata.detect_from_dataframe(real_data)\n",
    "\n",
    "Synthesizer = SingleTablePreset(\n",
    "    metadata,\n",
    "    name='FAST_ML'\n",
    ")\n",
    "\n",
    "Synthesizer.fit(\n",
    "    data=real_data\n",
    ")\n",
    "\n",
    "Synthetic_data = Synthesizer.sample(\n",
    "    num_rows=1000\n",
    ")\n",
    "Synthetic_data.to_csv(\"Generated_data\")\n",
    "\n"
   ]
  },
  {
   "cell_type": "code",
   "execution_count": 18,
   "metadata": {},
   "outputs": [
    {
     "data": {
      "text/html": [
       "<div>\n",
       "<style scoped>\n",
       "    .dataframe tbody tr th:only-of-type {\n",
       "        vertical-align: middle;\n",
       "    }\n",
       "\n",
       "    .dataframe tbody tr th {\n",
       "        vertical-align: top;\n",
       "    }\n",
       "\n",
       "    .dataframe thead th {\n",
       "        text-align: right;\n",
       "    }\n",
       "</style>\n",
       "<table border=\"1\" class=\"dataframe\">\n",
       "  <thead>\n",
       "    <tr style=\"text-align: right;\">\n",
       "      <th></th>\n",
       "      <th>Unnamed: 0</th>\n",
       "      <th>Pregnancies</th>\n",
       "      <th>Glucose</th>\n",
       "      <th>BloodPressure</th>\n",
       "      <th>SkinThickness</th>\n",
       "      <th>Insulin</th>\n",
       "      <th>BMI</th>\n",
       "      <th>DiabetesPedigreeFunction</th>\n",
       "      <th>Age</th>\n",
       "      <th>Outcome</th>\n",
       "    </tr>\n",
       "  </thead>\n",
       "  <tbody>\n",
       "    <tr>\n",
       "      <th>0</th>\n",
       "      <td>0</td>\n",
       "      <td>4</td>\n",
       "      <td>151</td>\n",
       "      <td>78</td>\n",
       "      <td>10</td>\n",
       "      <td>65</td>\n",
       "      <td>36.280343</td>\n",
       "      <td>0.664665</td>\n",
       "      <td>45</td>\n",
       "      <td>1</td>\n",
       "    </tr>\n",
       "    <tr>\n",
       "      <th>1</th>\n",
       "      <td>1</td>\n",
       "      <td>4</td>\n",
       "      <td>104</td>\n",
       "      <td>101</td>\n",
       "      <td>24</td>\n",
       "      <td>29</td>\n",
       "      <td>37.394831</td>\n",
       "      <td>0.078000</td>\n",
       "      <td>27</td>\n",
       "      <td>0</td>\n",
       "    </tr>\n",
       "    <tr>\n",
       "      <th>2</th>\n",
       "      <td>2</td>\n",
       "      <td>3</td>\n",
       "      <td>109</td>\n",
       "      <td>93</td>\n",
       "      <td>36</td>\n",
       "      <td>265</td>\n",
       "      <td>21.725647</td>\n",
       "      <td>0.348009</td>\n",
       "      <td>31</td>\n",
       "      <td>1</td>\n",
       "    </tr>\n",
       "    <tr>\n",
       "      <th>3</th>\n",
       "      <td>3</td>\n",
       "      <td>5</td>\n",
       "      <td>86</td>\n",
       "      <td>47</td>\n",
       "      <td>12</td>\n",
       "      <td>108</td>\n",
       "      <td>25.372657</td>\n",
       "      <td>0.763315</td>\n",
       "      <td>22</td>\n",
       "      <td>1</td>\n",
       "    </tr>\n",
       "    <tr>\n",
       "      <th>4</th>\n",
       "      <td>4</td>\n",
       "      <td>1</td>\n",
       "      <td>101</td>\n",
       "      <td>26</td>\n",
       "      <td>32</td>\n",
       "      <td>68</td>\n",
       "      <td>32.259080</td>\n",
       "      <td>0.325648</td>\n",
       "      <td>29</td>\n",
       "      <td>0</td>\n",
       "    </tr>\n",
       "    <tr>\n",
       "      <th>...</th>\n",
       "      <td>...</td>\n",
       "      <td>...</td>\n",
       "      <td>...</td>\n",
       "      <td>...</td>\n",
       "      <td>...</td>\n",
       "      <td>...</td>\n",
       "      <td>...</td>\n",
       "      <td>...</td>\n",
       "      <td>...</td>\n",
       "      <td>...</td>\n",
       "    </tr>\n",
       "    <tr>\n",
       "      <th>995</th>\n",
       "      <td>995</td>\n",
       "      <td>1</td>\n",
       "      <td>131</td>\n",
       "      <td>40</td>\n",
       "      <td>34</td>\n",
       "      <td>247</td>\n",
       "      <td>34.077538</td>\n",
       "      <td>0.745716</td>\n",
       "      <td>30</td>\n",
       "      <td>1</td>\n",
       "    </tr>\n",
       "    <tr>\n",
       "      <th>996</th>\n",
       "      <td>996</td>\n",
       "      <td>6</td>\n",
       "      <td>162</td>\n",
       "      <td>35</td>\n",
       "      <td>33</td>\n",
       "      <td>173</td>\n",
       "      <td>35.634756</td>\n",
       "      <td>0.078000</td>\n",
       "      <td>38</td>\n",
       "      <td>0</td>\n",
       "    </tr>\n",
       "    <tr>\n",
       "      <th>997</th>\n",
       "      <td>997</td>\n",
       "      <td>4</td>\n",
       "      <td>87</td>\n",
       "      <td>66</td>\n",
       "      <td>27</td>\n",
       "      <td>141</td>\n",
       "      <td>20.538039</td>\n",
       "      <td>0.581174</td>\n",
       "      <td>36</td>\n",
       "      <td>0</td>\n",
       "    </tr>\n",
       "    <tr>\n",
       "      <th>998</th>\n",
       "      <td>998</td>\n",
       "      <td>7</td>\n",
       "      <td>158</td>\n",
       "      <td>85</td>\n",
       "      <td>45</td>\n",
       "      <td>140</td>\n",
       "      <td>33.499651</td>\n",
       "      <td>0.583793</td>\n",
       "      <td>34</td>\n",
       "      <td>1</td>\n",
       "    </tr>\n",
       "    <tr>\n",
       "      <th>999</th>\n",
       "      <td>999</td>\n",
       "      <td>8</td>\n",
       "      <td>105</td>\n",
       "      <td>64</td>\n",
       "      <td>35</td>\n",
       "      <td>207</td>\n",
       "      <td>28.585508</td>\n",
       "      <td>0.281826</td>\n",
       "      <td>34</td>\n",
       "      <td>1</td>\n",
       "    </tr>\n",
       "  </tbody>\n",
       "</table>\n",
       "<p>1000 rows × 10 columns</p>\n",
       "</div>"
      ],
      "text/plain": [
       "     Unnamed: 0  Pregnancies  Glucose  BloodPressure  SkinThickness  Insulin  \\\n",
       "0             0            4      151             78             10       65   \n",
       "1             1            4      104            101             24       29   \n",
       "2             2            3      109             93             36      265   \n",
       "3             3            5       86             47             12      108   \n",
       "4             4            1      101             26             32       68   \n",
       "..          ...          ...      ...            ...            ...      ...   \n",
       "995         995            1      131             40             34      247   \n",
       "996         996            6      162             35             33      173   \n",
       "997         997            4       87             66             27      141   \n",
       "998         998            7      158             85             45      140   \n",
       "999         999            8      105             64             35      207   \n",
       "\n",
       "           BMI  DiabetesPedigreeFunction  Age  Outcome  \n",
       "0    36.280343                  0.664665   45        1  \n",
       "1    37.394831                  0.078000   27        0  \n",
       "2    21.725647                  0.348009   31        1  \n",
       "3    25.372657                  0.763315   22        1  \n",
       "4    32.259080                  0.325648   29        0  \n",
       "..         ...                       ...  ...      ...  \n",
       "995  34.077538                  0.745716   30        1  \n",
       "996  35.634756                  0.078000   38        0  \n",
       "997  20.538039                  0.581174   36        0  \n",
       "998  33.499651                  0.583793   34        1  \n",
       "999  28.585508                  0.281826   34        1  \n",
       "\n",
       "[1000 rows x 10 columns]"
      ]
     },
     "execution_count": 18,
     "metadata": {},
     "output_type": "execute_result"
    }
   ],
   "source": [
    "df = pd.read_csv(\"Generated_data\")\n",
    "df"
   ]
  },
  {
   "cell_type": "markdown",
   "metadata": {},
   "source": [
    "# ***2. Preprocess and perform exploratory data analysis of the dataset obtained***"
   ]
  },
  {
   "cell_type": "code",
   "execution_count": 19,
   "metadata": {},
   "outputs": [],
   "source": [
    "# Read the data\n",
    "Synthetic_data = pd.read_csv(r\"Generated_data\")"
   ]
  },
  {
   "cell_type": "code",
   "execution_count": 20,
   "metadata": {},
   "outputs": [
    {
     "data": {
      "text/html": [
       "<div>\n",
       "<style scoped>\n",
       "    .dataframe tbody tr th:only-of-type {\n",
       "        vertical-align: middle;\n",
       "    }\n",
       "\n",
       "    .dataframe tbody tr th {\n",
       "        vertical-align: top;\n",
       "    }\n",
       "\n",
       "    .dataframe thead th {\n",
       "        text-align: right;\n",
       "    }\n",
       "</style>\n",
       "<table border=\"1\" class=\"dataframe\">\n",
       "  <thead>\n",
       "    <tr style=\"text-align: right;\">\n",
       "      <th></th>\n",
       "      <th>Unnamed: 0</th>\n",
       "      <th>Pregnancies</th>\n",
       "      <th>Glucose</th>\n",
       "      <th>BloodPressure</th>\n",
       "      <th>SkinThickness</th>\n",
       "      <th>Insulin</th>\n",
       "      <th>BMI</th>\n",
       "      <th>DiabetesPedigreeFunction</th>\n",
       "      <th>Age</th>\n",
       "      <th>Outcome</th>\n",
       "    </tr>\n",
       "  </thead>\n",
       "  <tbody>\n",
       "    <tr>\n",
       "      <th>count</th>\n",
       "      <td>1000.000000</td>\n",
       "      <td>1000.000000</td>\n",
       "      <td>1000.000000</td>\n",
       "      <td>1000.000000</td>\n",
       "      <td>1000.000000</td>\n",
       "      <td>1000.000000</td>\n",
       "      <td>1000.000000</td>\n",
       "      <td>1000.000000</td>\n",
       "      <td>1000.000000</td>\n",
       "      <td>1000.000000</td>\n",
       "    </tr>\n",
       "    <tr>\n",
       "      <th>mean</th>\n",
       "      <td>499.500000</td>\n",
       "      <td>4.032000</td>\n",
       "      <td>121.606000</td>\n",
       "      <td>69.262000</td>\n",
       "      <td>21.346000</td>\n",
       "      <td>99.495000</td>\n",
       "      <td>31.498513</td>\n",
       "      <td>0.496183</td>\n",
       "      <td>34.021000</td>\n",
       "      <td>0.375000</td>\n",
       "    </tr>\n",
       "    <tr>\n",
       "      <th>std</th>\n",
       "      <td>288.819436</td>\n",
       "      <td>3.002331</td>\n",
       "      <td>31.207863</td>\n",
       "      <td>20.028492</td>\n",
       "      <td>14.827614</td>\n",
       "      <td>91.902939</td>\n",
       "      <td>8.099266</td>\n",
       "      <td>0.307900</td>\n",
       "      <td>10.244975</td>\n",
       "      <td>0.484365</td>\n",
       "    </tr>\n",
       "    <tr>\n",
       "      <th>min</th>\n",
       "      <td>0.000000</td>\n",
       "      <td>0.000000</td>\n",
       "      <td>24.000000</td>\n",
       "      <td>8.000000</td>\n",
       "      <td>0.000000</td>\n",
       "      <td>0.000000</td>\n",
       "      <td>2.326626</td>\n",
       "      <td>0.078000</td>\n",
       "      <td>21.000000</td>\n",
       "      <td>0.000000</td>\n",
       "    </tr>\n",
       "    <tr>\n",
       "      <th>25%</th>\n",
       "      <td>249.750000</td>\n",
       "      <td>2.000000</td>\n",
       "      <td>100.000000</td>\n",
       "      <td>56.000000</td>\n",
       "      <td>10.000000</td>\n",
       "      <td>10.000000</td>\n",
       "      <td>25.969422</td>\n",
       "      <td>0.229314</td>\n",
       "      <td>25.000000</td>\n",
       "      <td>0.000000</td>\n",
       "    </tr>\n",
       "    <tr>\n",
       "      <th>50%</th>\n",
       "      <td>499.500000</td>\n",
       "      <td>4.000000</td>\n",
       "      <td>121.000000</td>\n",
       "      <td>69.500000</td>\n",
       "      <td>20.000000</td>\n",
       "      <td>85.000000</td>\n",
       "      <td>31.620899</td>\n",
       "      <td>0.478947</td>\n",
       "      <td>33.000000</td>\n",
       "      <td>0.000000</td>\n",
       "    </tr>\n",
       "    <tr>\n",
       "      <th>75%</th>\n",
       "      <td>749.250000</td>\n",
       "      <td>6.000000</td>\n",
       "      <td>142.000000</td>\n",
       "      <td>83.000000</td>\n",
       "      <td>31.000000</td>\n",
       "      <td>161.000000</td>\n",
       "      <td>36.853491</td>\n",
       "      <td>0.711405</td>\n",
       "      <td>42.000000</td>\n",
       "      <td>1.000000</td>\n",
       "    </tr>\n",
       "    <tr>\n",
       "      <th>max</th>\n",
       "      <td>999.000000</td>\n",
       "      <td>17.000000</td>\n",
       "      <td>199.000000</td>\n",
       "      <td>122.000000</td>\n",
       "      <td>74.000000</td>\n",
       "      <td>494.000000</td>\n",
       "      <td>54.677124</td>\n",
       "      <td>1.600600</td>\n",
       "      <td>68.000000</td>\n",
       "      <td>1.000000</td>\n",
       "    </tr>\n",
       "  </tbody>\n",
       "</table>\n",
       "</div>"
      ],
      "text/plain": [
       "        Unnamed: 0  Pregnancies      Glucose  BloodPressure  SkinThickness  \\\n",
       "count  1000.000000  1000.000000  1000.000000    1000.000000    1000.000000   \n",
       "mean    499.500000     4.032000   121.606000      69.262000      21.346000   \n",
       "std     288.819436     3.002331    31.207863      20.028492      14.827614   \n",
       "min       0.000000     0.000000    24.000000       8.000000       0.000000   \n",
       "25%     249.750000     2.000000   100.000000      56.000000      10.000000   \n",
       "50%     499.500000     4.000000   121.000000      69.500000      20.000000   \n",
       "75%     749.250000     6.000000   142.000000      83.000000      31.000000   \n",
       "max     999.000000    17.000000   199.000000     122.000000      74.000000   \n",
       "\n",
       "           Insulin          BMI  DiabetesPedigreeFunction          Age  \\\n",
       "count  1000.000000  1000.000000               1000.000000  1000.000000   \n",
       "mean     99.495000    31.498513                  0.496183    34.021000   \n",
       "std      91.902939     8.099266                  0.307900    10.244975   \n",
       "min       0.000000     2.326626                  0.078000    21.000000   \n",
       "25%      10.000000    25.969422                  0.229314    25.000000   \n",
       "50%      85.000000    31.620899                  0.478947    33.000000   \n",
       "75%     161.000000    36.853491                  0.711405    42.000000   \n",
       "max     494.000000    54.677124                  1.600600    68.000000   \n",
       "\n",
       "           Outcome  \n",
       "count  1000.000000  \n",
       "mean      0.375000  \n",
       "std       0.484365  \n",
       "min       0.000000  \n",
       "25%       0.000000  \n",
       "50%       0.000000  \n",
       "75%       1.000000  \n",
       "max       1.000000  "
      ]
     },
     "execution_count": 20,
     "metadata": {},
     "output_type": "execute_result"
    }
   ],
   "source": [
    "Synthetic_data.describe()"
   ]
  },
  {
   "cell_type": "code",
   "execution_count": 21,
   "metadata": {},
   "outputs": [
    {
     "name": "stdout",
     "output_type": "stream",
     "text": [
      "<class 'pandas.core.frame.DataFrame'>\n",
      "RangeIndex: 1000 entries, 0 to 999\n",
      "Data columns (total 10 columns):\n",
      " #   Column                    Non-Null Count  Dtype  \n",
      "---  ------                    --------------  -----  \n",
      " 0   Unnamed: 0                1000 non-null   int64  \n",
      " 1   Pregnancies               1000 non-null   int64  \n",
      " 2   Glucose                   1000 non-null   int64  \n",
      " 3   BloodPressure             1000 non-null   int64  \n",
      " 4   SkinThickness             1000 non-null   int64  \n",
      " 5   Insulin                   1000 non-null   int64  \n",
      " 6   BMI                       1000 non-null   float64\n",
      " 7   DiabetesPedigreeFunction  1000 non-null   float64\n",
      " 8   Age                       1000 non-null   int64  \n",
      " 9   Outcome                   1000 non-null   int64  \n",
      "dtypes: float64(2), int64(8)\n",
      "memory usage: 78.2 KB\n"
     ]
    }
   ],
   "source": [
    "Synthetic_data.info()"
   ]
  },
  {
   "cell_type": "code",
   "execution_count": 22,
   "metadata": {},
   "outputs": [
    {
     "data": {
      "text/plain": [
       "Unnamed: 0                  0\n",
       "Pregnancies                 0\n",
       "Glucose                     0\n",
       "BloodPressure               0\n",
       "SkinThickness               0\n",
       "Insulin                     0\n",
       "BMI                         0\n",
       "DiabetesPedigreeFunction    0\n",
       "Age                         0\n",
       "Outcome                     0\n",
       "dtype: int64"
      ]
     },
     "execution_count": 22,
     "metadata": {},
     "output_type": "execute_result"
    }
   ],
   "source": [
    "Synthetic_data.isnull().sum()"
   ]
  },
  {
   "cell_type": "code",
   "execution_count": 23,
   "metadata": {},
   "outputs": [
    {
     "data": {
      "text/html": [
       "<div>\n",
       "<style scoped>\n",
       "    .dataframe tbody tr th:only-of-type {\n",
       "        vertical-align: middle;\n",
       "    }\n",
       "\n",
       "    .dataframe tbody tr th {\n",
       "        vertical-align: top;\n",
       "    }\n",
       "\n",
       "    .dataframe thead th {\n",
       "        text-align: right;\n",
       "    }\n",
       "</style>\n",
       "<table border=\"1\" class=\"dataframe\">\n",
       "  <thead>\n",
       "    <tr style=\"text-align: right;\">\n",
       "      <th></th>\n",
       "      <th>Ones</th>\n",
       "      <th>Pregnancies</th>\n",
       "      <th>Glucose</th>\n",
       "      <th>BloodPressure</th>\n",
       "      <th>SkinThickness</th>\n",
       "      <th>Insulin</th>\n",
       "      <th>BMI</th>\n",
       "      <th>DiabetesPedigreeFunction</th>\n",
       "      <th>Age</th>\n",
       "    </tr>\n",
       "  </thead>\n",
       "  <tbody>\n",
       "    <tr>\n",
       "      <th>0</th>\n",
       "      <td>1</td>\n",
       "      <td>-0.010658</td>\n",
       "      <td>0.941878</td>\n",
       "      <td>0.436278</td>\n",
       "      <td>-0.765194</td>\n",
       "      <td>-0.375342</td>\n",
       "      <td>0.590403</td>\n",
       "      <td>0.547197</td>\n",
       "      <td>1.071647</td>\n",
       "    </tr>\n",
       "    <tr>\n",
       "      <th>1</th>\n",
       "      <td>1</td>\n",
       "      <td>-0.010658</td>\n",
       "      <td>-0.564153</td>\n",
       "      <td>1.584643</td>\n",
       "      <td>0.178990</td>\n",
       "      <td>-0.767059</td>\n",
       "      <td>0.728007</td>\n",
       "      <td>-1.358178</td>\n",
       "      <td>-0.685312</td>\n",
       "    </tr>\n",
       "    <tr>\n",
       "      <th>2</th>\n",
       "      <td>1</td>\n",
       "      <td>-0.343733</td>\n",
       "      <td>-0.403937</td>\n",
       "      <td>1.185212</td>\n",
       "      <td>0.988291</td>\n",
       "      <td>1.800867</td>\n",
       "      <td>-1.206636</td>\n",
       "      <td>-0.481239</td>\n",
       "      <td>-0.294876</td>\n",
       "    </tr>\n",
       "    <tr>\n",
       "      <th>3</th>\n",
       "      <td>1</td>\n",
       "      <td>0.322416</td>\n",
       "      <td>-1.140930</td>\n",
       "      <td>-1.111517</td>\n",
       "      <td>-0.630310</td>\n",
       "      <td>0.092543</td>\n",
       "      <td>-0.756347</td>\n",
       "      <td>0.867594</td>\n",
       "      <td>-1.173356</td>\n",
       "    </tr>\n",
       "    <tr>\n",
       "      <th>4</th>\n",
       "      <td>1</td>\n",
       "      <td>-1.009882</td>\n",
       "      <td>-0.660282</td>\n",
       "      <td>-2.160023</td>\n",
       "      <td>0.718524</td>\n",
       "      <td>-0.342699</td>\n",
       "      <td>0.093906</td>\n",
       "      <td>-0.553865</td>\n",
       "      <td>-0.490094</td>\n",
       "    </tr>\n",
       "    <tr>\n",
       "      <th>...</th>\n",
       "      <td>...</td>\n",
       "      <td>...</td>\n",
       "      <td>...</td>\n",
       "      <td>...</td>\n",
       "      <td>...</td>\n",
       "      <td>...</td>\n",
       "      <td>...</td>\n",
       "      <td>...</td>\n",
       "      <td>...</td>\n",
       "    </tr>\n",
       "    <tr>\n",
       "      <th>995</th>\n",
       "      <td>1</td>\n",
       "      <td>-1.009882</td>\n",
       "      <td>0.301014</td>\n",
       "      <td>-1.461019</td>\n",
       "      <td>0.853408</td>\n",
       "      <td>1.605009</td>\n",
       "      <td>0.318427</td>\n",
       "      <td>0.810435</td>\n",
       "      <td>-0.392485</td>\n",
       "    </tr>\n",
       "    <tr>\n",
       "      <th>996</th>\n",
       "      <td>1</td>\n",
       "      <td>0.655491</td>\n",
       "      <td>1.294353</td>\n",
       "      <td>-1.710663</td>\n",
       "      <td>0.785966</td>\n",
       "      <td>0.799811</td>\n",
       "      <td>0.510694</td>\n",
       "      <td>-1.358178</td>\n",
       "      <td>0.388386</td>\n",
       "    </tr>\n",
       "    <tr>\n",
       "      <th>997</th>\n",
       "      <td>1</td>\n",
       "      <td>-0.010658</td>\n",
       "      <td>-1.108887</td>\n",
       "      <td>-0.162868</td>\n",
       "      <td>0.381316</td>\n",
       "      <td>0.451618</td>\n",
       "      <td>-1.353268</td>\n",
       "      <td>0.276035</td>\n",
       "      <td>0.193168</td>\n",
       "    </tr>\n",
       "    <tr>\n",
       "      <th>998</th>\n",
       "      <td>1</td>\n",
       "      <td>0.988565</td>\n",
       "      <td>1.166180</td>\n",
       "      <td>0.785781</td>\n",
       "      <td>1.595267</td>\n",
       "      <td>0.440737</td>\n",
       "      <td>0.247077</td>\n",
       "      <td>0.284541</td>\n",
       "      <td>-0.002050</td>\n",
       "    </tr>\n",
       "    <tr>\n",
       "      <th>999</th>\n",
       "      <td>1</td>\n",
       "      <td>1.321640</td>\n",
       "      <td>-0.532109</td>\n",
       "      <td>-0.262726</td>\n",
       "      <td>0.920849</td>\n",
       "      <td>1.169767</td>\n",
       "      <td>-0.359663</td>\n",
       "      <td>-0.696191</td>\n",
       "      <td>-0.002050</td>\n",
       "    </tr>\n",
       "  </tbody>\n",
       "</table>\n",
       "<p>1000 rows × 9 columns</p>\n",
       "</div>"
      ],
      "text/plain": [
       "     Ones  Pregnancies   Glucose  BloodPressure  SkinThickness   Insulin  \\\n",
       "0       1    -0.010658  0.941878       0.436278      -0.765194 -0.375342   \n",
       "1       1    -0.010658 -0.564153       1.584643       0.178990 -0.767059   \n",
       "2       1    -0.343733 -0.403937       1.185212       0.988291  1.800867   \n",
       "3       1     0.322416 -1.140930      -1.111517      -0.630310  0.092543   \n",
       "4       1    -1.009882 -0.660282      -2.160023       0.718524 -0.342699   \n",
       "..    ...          ...       ...            ...            ...       ...   \n",
       "995     1    -1.009882  0.301014      -1.461019       0.853408  1.605009   \n",
       "996     1     0.655491  1.294353      -1.710663       0.785966  0.799811   \n",
       "997     1    -0.010658 -1.108887      -0.162868       0.381316  0.451618   \n",
       "998     1     0.988565  1.166180       0.785781       1.595267  0.440737   \n",
       "999     1     1.321640 -0.532109      -0.262726       0.920849  1.169767   \n",
       "\n",
       "          BMI  DiabetesPedigreeFunction       Age  \n",
       "0    0.590403                  0.547197  1.071647  \n",
       "1    0.728007                 -1.358178 -0.685312  \n",
       "2   -1.206636                 -0.481239 -0.294876  \n",
       "3   -0.756347                  0.867594 -1.173356  \n",
       "4    0.093906                 -0.553865 -0.490094  \n",
       "..        ...                       ...       ...  \n",
       "995  0.318427                  0.810435 -0.392485  \n",
       "996  0.510694                 -1.358178  0.388386  \n",
       "997 -1.353268                  0.276035  0.193168  \n",
       "998  0.247077                  0.284541 -0.002050  \n",
       "999 -0.359663                 -0.696191 -0.002050  \n",
       "\n",
       "[1000 rows x 9 columns]"
      ]
     },
     "execution_count": 23,
     "metadata": {},
     "output_type": "execute_result"
    }
   ],
   "source": [
    "X1=Synthetic_data.iloc[:,1:9]\n",
    "for i in X1.columns:\n",
    "    #Standardization of data\n",
    "    X1[i]=(X1[i]-X1[i].mean())/X1[i].std()\n",
    "# Extra column for intercept\n",
    "X1.insert(0, 'Ones', 1)\n",
    "X1"
   ]
  },
  {
   "cell_type": "code",
   "execution_count": 24,
   "metadata": {},
   "outputs": [],
   "source": [
    "X=X1.iloc[0:800,:]\n",
    "Y=Synthetic_data.iloc[0:800:,9:10]\n",
    "\n",
    "x_t=X1.iloc[800:,:]\n",
    "y_t=Synthetic_data.iloc[800:,9:10]\n"
   ]
  },
  {
   "cell_type": "code",
   "execution_count": 25,
   "metadata": {},
   "outputs": [
    {
     "data": {
      "text/plain": [
       "(   Ones  Pregnancies   Glucose  BloodPressure  SkinThickness   Insulin  \\\n",
       " 0     1    -0.010658  0.941878       0.436278      -0.765194 -0.375342   \n",
       " 1     1    -0.010658 -0.564153       1.584643       0.178990 -0.767059   \n",
       " 2     1    -0.343733 -0.403937       1.185212       0.988291  1.800867   \n",
       " 3     1     0.322416 -1.140930      -1.111517      -0.630310  0.092543   \n",
       " 4     1    -1.009882 -0.660282      -2.160023       0.718524 -0.342699   \n",
       " \n",
       "         BMI  DiabetesPedigreeFunction       Age  \n",
       " 0  0.590403                  0.547197  1.071647  \n",
       " 1  0.728007                 -1.358178 -0.685312  \n",
       " 2 -1.206636                 -0.481239 -0.294876  \n",
       " 3 -0.756347                  0.867594 -1.173356  \n",
       " 4  0.093906                 -0.553865 -0.490094  ,\n",
       " (800, 9))"
      ]
     },
     "execution_count": 25,
     "metadata": {},
     "output_type": "execute_result"
    }
   ],
   "source": [
    "X.head(),X.shape"
   ]
  },
  {
   "cell_type": "code",
   "execution_count": 26,
   "metadata": {},
   "outputs": [
    {
     "data": {
      "text/plain": [
       "(   Outcome\n",
       " 0        1\n",
       " 1        0\n",
       " 2        1\n",
       " 3        1\n",
       " 4        0,\n",
       " (800, 1))"
      ]
     },
     "execution_count": 26,
     "metadata": {},
     "output_type": "execute_result"
    }
   ],
   "source": [
    "Y.head(),Y.shape"
   ]
  },
  {
   "cell_type": "code",
   "execution_count": 27,
   "metadata": {},
   "outputs": [
    {
     "data": {
      "text/plain": [
       "(     Ones  Pregnancies   Glucose  BloodPressure  SkinThickness   Insulin  \\\n",
       " 800     1     0.655491 -0.307807      -0.712086       1.527825 -0.201245   \n",
       " 801     1    -0.343733 -0.852542      -1.161445      -1.439611 -1.082610   \n",
       " 802     1     2.320864 -1.172974       0.985496      -1.439611 -0.516795   \n",
       " 803     1    -1.342957 -0.500066      -0.612228      -1.439611 -1.082610   \n",
       " 804     1     0.322416  2.031347       0.436278      -0.562869  0.973908   \n",
       " \n",
       "           BMI  DiabetesPedigreeFunction       Age  \n",
       " 800  1.410659                 -0.696127 -0.782920  \n",
       " 801 -1.254410                 -1.011563  3.121433  \n",
       " 802 -1.079337                 -1.358178  1.169256  \n",
       " 803  0.186234                 -1.358178 -1.270965  \n",
       " 804  1.171780                  0.632429  1.071647  ,\n",
       " (200, 9))"
      ]
     },
     "execution_count": 27,
     "metadata": {},
     "output_type": "execute_result"
    }
   ],
   "source": [
    "x_t.head(),x_t.shape"
   ]
  },
  {
   "cell_type": "code",
   "execution_count": 28,
   "metadata": {},
   "outputs": [
    {
     "data": {
      "text/plain": [
       "(     Outcome\n",
       " 800        1\n",
       " 801        0\n",
       " 802        0\n",
       " 803        0\n",
       " 804        1,\n",
       " (200, 1))"
      ]
     },
     "execution_count": 28,
     "metadata": {},
     "output_type": "execute_result"
    }
   ],
   "source": [
    "y_t.head(),y_t.shape"
   ]
  },
  {
   "cell_type": "markdown",
   "metadata": {},
   "source": [
    "# ***3. Comparison of Stochastic Gradient Descent and Batch Gradient Descent using Linear Regression***\n",
    "\n",
    "## **_Stochastic Gradient Descent_**"
   ]
  },
  {
   "cell_type": "code",
   "execution_count": 29,
   "metadata": {},
   "outputs": [],
   "source": [
    "def Stochastic_gradient_descent(x,y, alpha, iterations):\n",
    "\n",
    "    costIteration = []  # For storing the cost function at each iteration\n",
    "    theta = np.ones((1,x.shape[1]))# Initializing thetas with 0s\n",
    "\n",
    "    m = y.size\n",
    "\n",
    "\n",
    "    for i in range(iterations):\n",
    "      index=np.random.randint(0,x.shape[1]-1)\n",
    "      x_sample=x.loc[index,:]\n",
    "      y_sample=y.loc[index,:]\n",
    "      h = x_sample.dot(theta.T)\n",
    "      diff=h-y_sample.values\n",
    "      theta = theta - alpha*(diff[0]*x_sample.values)\n",
    "      cost = (1/(2*m))*np.sum(np.square(h-y_sample.values))\n",
    "      costIteration.append(cost)\n",
    "    return theta, costIteration"
   ]
  },
  {
   "cell_type": "code",
   "execution_count": 30,
   "metadata": {},
   "outputs": [
    {
     "name": "stdout",
     "output_type": "stream",
     "text": [
      "[[ 0.76507225  0.42820633 -0.02118499  0.17855807  0.6005479   0.77448744\n",
      "   0.42624556  0.42975881  0.26426406]]\n",
      "[array([1.]), array([0.]), array([0.]), array([0.]), array([1.]), array([1.]), array([0.]), array([1.]), array([0.]), array([1.]), array([1.]), array([0.]), array([1.]), array([1.]), array([0.]), array([1.]), array([0.]), array([0.]), array([1.]), array([1.]), array([1.]), array([1.]), array([0.]), array([0.]), array([0.]), array([1.]), array([1.]), array([1.]), array([0.]), array([1.]), array([1.]), array([1.]), array([1.]), array([1.]), array([0.]), array([0.]), array([0.]), array([0.]), array([0.]), array([0.]), array([1.]), array([1.]), array([0.]), array([0.]), array([1.]), array([0.]), array([0.]), array([1.]), array([1.]), array([1.]), array([0.]), array([0.]), array([1.]), array([1.]), array([0.]), array([1.]), array([0.]), array([0.]), array([0.]), array([1.]), array([1.]), array([0.]), array([1.]), array([1.]), array([0.]), array([0.]), array([1.]), array([1.]), array([0.]), array([1.]), array([0.]), array([1.]), array([1.]), array([0.]), array([0.]), array([1.]), array([0.]), array([1.]), array([0.]), array([0.]), array([1.]), array([1.]), array([0.]), array([1.]), array([0.]), array([0.]), array([0.]), array([1.]), array([1.]), array([1.]), array([0.]), array([1.]), array([1.]), array([0.]), array([1.]), array([1.]), array([0.]), array([1.]), array([1.]), array([0.]), array([1.]), array([0.]), array([1.]), array([0.]), array([0.]), array([1.]), array([0.]), array([1.]), array([0.]), array([0.]), array([1.]), array([0.]), array([1.]), array([0.]), array([1.]), array([1.]), array([1.]), array([0.]), array([0.]), array([0.]), array([0.]), array([0.]), array([1.]), array([1.]), array([0.]), array([1.]), array([1.]), array([0.]), array([0.]), array([0.]), array([0.]), array([0.]), array([1.]), array([0.]), array([1.]), array([0.]), array([1.]), array([1.]), array([0.]), array([0.]), array([0.]), array([0.]), array([0.]), array([1.]), array([0.]), array([0.]), array([1.]), array([0.]), array([1.]), array([1.]), array([0.]), array([0.]), array([0.]), array([0.]), array([1.]), array([1.]), array([0.]), array([0.]), array([0.]), array([1.]), array([1.]), array([1.]), array([1.]), array([1.]), array([0.]), array([1.]), array([1.]), array([1.]), array([1.]), array([1.]), array([0.]), array([1.]), array([0.]), array([1.]), array([1.]), array([0.]), array([1.]), array([0.]), array([0.]), array([0.]), array([0.]), array([0.]), array([1.]), array([0.]), array([1.]), array([0.]), array([1.]), array([1.]), array([1.]), array([0.]), array([0.]), array([0.]), array([1.]), array([0.]), array([0.]), array([1.]), array([1.]), array([1.]), array([1.]), array([1.])]\n"
     ]
    }
   ],
   "source": [
    "j=0.001\n",
    "k=1000\n",
    "theta, cost_sgd = Stochastic_gradient_descent(X,Y, j, k)\n",
    "print(theta)\n",
    "prediction_t_sgd=[]\n",
    "theta = theta.T\n",
    "for i in x_t.index:\n",
    "    prediction=np.round(np.clip(x_t.loc[i,:].dot(theta),0,1))\n",
    "    prediction_t_sgd.append(prediction)\n",
    "print(prediction_t_sgd)\n"
   ]
  },
  {
   "cell_type": "markdown",
   "metadata": {},
   "source": [
    "## **_Batch Gradient Descent_**"
   ]
  },
  {
   "cell_type": "code",
   "execution_count": 31,
   "metadata": {},
   "outputs": [],
   "source": [
    "def batch_gradient_descent(x, y, alpha, iterations):\n",
    "    costIteration = []  # For storing the cost function at each iteration\n",
    "    theta = np.ones((1, x.shape[1]))  # Initializing thetas with 0s\n",
    "    m = y.size\n",
    "\n",
    "    for i in range(iterations):\n",
    "        h = x.dot(theta.T)\n",
    "        theta = theta - alpha * (1 / m) * (np.dot(x.T, h - y.values))[:, 0]\n",
    "        cost = (1 / (2 * m)) * np.sum(np.square(h - y.values))\n",
    "        costIteration.append(cost)\n",
    "\n",
    "    return theta, costIteration"
   ]
  },
  {
   "cell_type": "code",
   "execution_count": 32,
   "metadata": {},
   "outputs": [
    {
     "name": "stdout",
     "output_type": "stream",
     "text": [
      "[[0.61882188]\n",
      " [0.30599841]\n",
      " [0.17517214]\n",
      " [0.09081319]\n",
      " [0.14764761]\n",
      " [0.10626363]\n",
      " [0.14403134]\n",
      " [0.33611258]\n",
      " [0.17309142]]\n",
      "[array([1.]), array([0.]), array([1.]), array([0.]), array([1.]), array([1.]), array([0.]), array([1.]), array([0.]), array([1.]), array([0.]), array([0.]), array([1.]), array([1.]), array([0.]), array([1.]), array([0.]), array([0.]), array([1.]), array([1.]), array([0.]), array([1.]), array([0.]), array([0.]), array([0.]), array([1.]), array([1.]), array([1.]), array([0.]), array([1.]), array([1.]), array([1.]), array([0.]), array([1.]), array([0.]), array([0.]), array([0.]), array([0.]), array([0.]), array([1.]), array([1.]), array([1.]), array([0.]), array([0.]), array([1.]), array([1.]), array([0.]), array([1.]), array([1.]), array([1.]), array([0.]), array([0.]), array([0.]), array([1.]), array([1.]), array([1.]), array([1.]), array([0.]), array([0.]), array([1.]), array([1.]), array([0.]), array([1.]), array([1.]), array([0.]), array([0.]), array([1.]), array([1.]), array([0.]), array([1.]), array([0.]), array([0.]), array([1.]), array([0.]), array([0.]), array([1.]), array([0.]), array([1.]), array([0.]), array([0.]), array([1.]), array([1.]), array([1.]), array([1.]), array([0.]), array([0.]), array([1.]), array([1.]), array([1.]), array([1.]), array([0.]), array([1.]), array([1.]), array([1.]), array([1.]), array([1.]), array([1.]), array([0.]), array([1.]), array([0.]), array([1.]), array([0.]), array([1.]), array([0.]), array([0.]), array([0.]), array([0.]), array([1.]), array([0.]), array([0.]), array([1.]), array([0.]), array([0.]), array([0.]), array([0.]), array([1.]), array([1.]), array([0.]), array([0.]), array([0.]), array([0.]), array([0.]), array([1.]), array([1.]), array([0.]), array([0.]), array([1.]), array([0.]), array([1.]), array([0.]), array([0.]), array([0.]), array([1.]), array([0.]), array([0.]), array([1.]), array([1.]), array([1.]), array([0.]), array([0.]), array([1.]), array([0.]), array([1.]), array([1.]), array([0.]), array([0.]), array([1.]), array([0.]), array([1.]), array([1.]), array([0.]), array([0.]), array([0.]), array([0.]), array([1.]), array([0.]), array([0.]), array([0.]), array([0.]), array([1.]), array([1.]), array([1.]), array([1.]), array([1.]), array([0.]), array([1.]), array([1.]), array([1.]), array([1.]), array([1.]), array([0.]), array([1.]), array([1.]), array([1.]), array([1.]), array([0.]), array([1.]), array([0.]), array([1.]), array([0.]), array([1.]), array([0.]), array([0.]), array([0.]), array([1.]), array([0.]), array([1.]), array([0.]), array([1.]), array([0.]), array([0.]), array([0.]), array([1.]), array([0.]), array([1.]), array([1.]), array([1.]), array([0.]), array([1.]), array([1.])]\n"
     ]
    }
   ],
   "source": [
    "j = 0.001\n",
    "k = 1000\n",
    "theta, cost_batch = batch_gradient_descent(X, Y, alpha=j, iterations=k)\n",
    "theta = theta.T\n",
    "# Define your test data x_t here\n",
    "prediction_t_batch = []\n",
    "for i in x_t.index:\n",
    "    prediction = np.round(np.clip(x_t.loc[i, :].dot(theta), 0, 1))\n",
    "    prediction_t_batch.append(prediction)\n",
    "\n",
    "print(theta)\n",
    "print(prediction_t_batch)"
   ]
  },
  {
   "cell_type": "markdown",
   "metadata": {},
   "source": [
    "## **_Insights drawn (plots, markdown explanations)_**"
   ]
  },
  {
   "cell_type": "code",
   "execution_count": 33,
   "metadata": {},
   "outputs": [],
   "source": [
    "from sklearn.metrics import accuracy_score, f1_score , precision_score, recall_score, roc_auc_score, confusion_matrix\n",
    "from sklearn.metrics import ConfusionMatrixDisplay\n"
   ]
  },
  {
   "cell_type": "code",
   "execution_count": 34,
   "metadata": {},
   "outputs": [
    {
     "name": "stdout",
     "output_type": "stream",
     "text": [
      "Accuracy score:  0.615\n",
      "Precision score:  0.45544554455445546\n",
      "Recall score:  0.6764705882352942\n",
      "F1 score:  0.5443786982248521\n",
      "ROC-AUC score:  0.6299019607843137\n",
      "Confusion matrix: \n",
      " [[77 55]\n",
      " [22 46]]\n"
     ]
    },
    {
     "data": {
      "text/plain": [
       "<sklearn.metrics._plot.confusion_matrix.ConfusionMatrixDisplay at 0x7f34fcb0b940>"
      ]
     },
     "execution_count": 34,
     "metadata": {},
     "output_type": "execute_result"
    },
    {
     "data": {
      "image/png": "[encoded data removed]",
      "text/plain": [
       "<Figure size 640x480 with 2 Axes>"
      ]
     },
     "metadata": {},
     "output_type": "display_data"
    }
   ],
   "source": [
    "## For Stochastic Gradient Descent\n",
    "\n",
    "print(\"Accuracy score: \", accuracy_score(y_t, prediction_t_sgd))\n",
    "print(\"Precision score: \", precision_score(y_t, prediction_t_sgd))\n",
    "print(\"Recall score: \", recall_score(y_t, prediction_t_sgd))\n",
    "print(\"F1 score: \", f1_score(y_t, prediction_t_sgd))\n",
    "print(\"ROC-AUC score: \", roc_auc_score(y_t, prediction_t_sgd))\n",
    "print(\"Confusion matrix: \\n\", confusion_matrix(y_t, prediction_t_sgd))\n",
    "cm = confusion_matrix(y_t, prediction_t_sgd)\n",
    "disp = ConfusionMatrixDisplay(confusion_matrix=cm)\n",
    "disp.plot()\n"
   ]
  },
  {
   "cell_type": "code",
   "execution_count": 35,
   "metadata": {},
   "outputs": [
    {
     "name": "stdout",
     "output_type": "stream",
     "text": [
      "Accuracy score:  0.605\n",
      "Precision score:  0.44660194174757284\n",
      "Recall score:  0.6764705882352942\n",
      "F1 score:  0.5380116959064328\n",
      "ROC-AUC score:  0.6223262032085561\n",
      "Confusion matrix: \n",
      " [[75 57]\n",
      " [22 46]]\n"
     ]
    },
    {
     "data": {
      "text/plain": [
       "<sklearn.metrics._plot.confusion_matrix.ConfusionMatrixDisplay at 0x7f35cc095720>"
      ]
     },
     "execution_count": 35,
     "metadata": {},
     "output_type": "execute_result"
    },
    {
     "data": {
      "image/png": "[encoded data removed]",
      "text/plain": [
       "<Figure size 640x480 with 2 Axes>"
      ]
     },
     "metadata": {},
     "output_type": "display_data"
    }
   ],
   "source": [
    "## For Batch Gradient Descent\n",
    "print(\"Accuracy score: \", accuracy_score(y_t, prediction_t_batch))\n",
    "print(\"Precision score: \", precision_score(y_t, prediction_t_batch))\n",
    "print(\"Recall score: \", recall_score(y_t, prediction_t_batch))\n",
    "print(\"F1 score: \", f1_score(y_t, prediction_t_batch))\n",
    "print(\"ROC-AUC score: \", roc_auc_score(y_t, prediction_t_batch))\n",
    "print(\"Confusion matrix: \\n\", confusion_matrix(y_t, prediction_t_batch))\n",
    "cm = confusion_matrix(y_t, prediction_t_batch)\n",
    "disp = ConfusionMatrixDisplay(confusion_matrix=cm)\n",
    "disp.plot()"
   ]
  },
  {
   "cell_type": "code",
   "execution_count": 36,
   "metadata": {},
   "outputs": [
    {
     "data": {
      "image/png": "[encoded data removed]",
      "text/plain": [
       "<Figure size 640x480 with 1 Axes>"
      ]
     },
     "metadata": {},
     "output_type": "display_data"
    }
   ],
   "source": [
    "## Comparision\n",
    "iterations = list(range(1, k + 1))\n",
    "import matplotlib.pyplot as plt\n",
    "plt.scatter(iterations, cost_batch,  color='blue')\n",
    "plt.scatter(iterations, cost_sgd, color='red')\n",
    "\n",
    "plt.xlabel('Iteration')\n",
    "plt.ylabel('Cost')\n",
    "plt.title('Cost vs. Iteration in Batch Gradient Descent')\n",
    "plt.grid(True)\n",
    "\n",
    "plt.show()"
   ]
  },
  {
   "cell_type": "markdown",
   "metadata": {},
   "source": [
    "# **_4. Comparison of Lasso and Ridge Regression using Polynomial Regression_**\n",
    "\n",
    "## **_Lasso Regression_**"
   ]
  },
  {
   "cell_type": "code",
   "execution_count": 37,
   "metadata": {},
   "outputs": [],
   "source": [
    "def generate_polynomial_features(X, degree):\n",
    "    \"\"\"\n",
    "    Generate polynomial features up to the specified degree.\n",
    "    \n",
    "    Parameters:\n",
    "    - X: Input feature matrix (n_samples, n_features)\n",
    "    - degree: Degree of the polynomial\n",
    "    \n",
    "    Returns:\n",
    "    - X_poly: Feature matrix with polynomial features (n_samples, n_poly_features)\n",
    "    \"\"\"\n",
    "    n_samples, n_features = X.shape\n",
    "    X_poly = np.ones((n_samples, 1))\n",
    "    \n",
    "    for d in range(1, degree + 1):\n",
    "        X_poly = np.hstack((X_poly, X ** d))\n",
    "    \n",
    "    return X_poly"
   ]
  },
  {
   "cell_type": "code",
   "execution_count": 38,
   "metadata": {},
   "outputs": [
    {
     "data": {
      "text/plain": [
       "(800, 109)"
      ]
     },
     "execution_count": 38,
     "metadata": {},
     "output_type": "execute_result"
    }
   ],
   "source": [
    "X_poly = generate_polynomial_features(X, 12)\n",
    "X_poly.shape"
   ]
  },
  {
   "cell_type": "code",
   "execution_count": 39,
   "metadata": {},
   "outputs": [],
   "source": [
    "def lasso_regression(X, y, degree, alpha, num_iterations, learning_rate):\n",
    "    \"\"\"\n",
    "    Perform polynomial regression with Lasso regularization using gradient descent.\n",
    "    \n",
    "    Parameters:\n",
    "    - X: Input feature matrix (n_samples, n_features)\n",
    "    - y: Target values (n_samples,)\n",
    "    - degree: Degree of the polynomial\n",
    "    - alpha: L1 regularization strength\n",
    "    - num_iterations: Number of gradient descent iterations\n",
    "    - learning_rate: Learning rate for gradient descent\n",
    "    \n",
    "    Returns:\n",
    "    - theta: Coefficients of the polynomial regression model (n_poly_features,)\n",
    "    \"\"\"\n",
    "    costIteration = []\n",
    "    n_samples, n_features = X.shape\n",
    "    X_poly = generate_polynomial_features(X, degree)\n",
    "    theta = np.zeros(X_poly.shape[1])\n",
    "\n",
    "    for _ in range(num_iterations):\n",
    "        # Compute the predictions\n",
    "        y_pred = np.dot(X_poly, theta)\n",
    "        \n",
    "        # Compute the gradient with Lasso regularization\n",
    "        gradient = (1 / n_samples) * np.dot(X_poly.T, (y_pred - y)) + (alpha / n_samples) * np.sign(theta)\n",
    "        \n",
    "        # Update the coefficients using gradient descent\n",
    "        theta -= learning_rate * gradient\n",
    "        cost = (1 / (2 * n_samples)) * np.sum((y_pred - y) ** 2) + (alpha / n_samples) * np.sum(np.abs(theta))\n",
    "        costIteration.append(cost)\n",
    "    \n",
    "    return theta, costIteration\n",
    "    \n"
   ]
  },
  {
   "cell_type": "code",
   "execution_count": 40,
   "metadata": {},
   "outputs": [
    {
     "name": "stdout",
     "output_type": "stream",
     "text": [
      "Unexpected exception formatting exception. Falling back to standard exception\n"
     ]
    },
    {
     "name": "stderr",
     "output_type": "stream",
     "text": [
      "Traceback (most recent call last):\n",
      "  File \"/home/codespace/.local/lib/python3.10/site-packages/IPython/core/interactiveshell.py\", line 3526, in run_code\n",
      "    exec(code_obj, self.user_global_ns, self.user_ns)\n",
      "  File \"/tmp/ipykernel_7779/4247296292.py\", line 6, in <module>\n",
      "    theta, cost = lasso_regression(X, Y, degree, alpha, num_iterations, learning_rate)\n",
      "  File \"/tmp/ipykernel_7779/436291449.py\", line 26, in lasso_regression\n",
      "    gradient = (1 / n_samples) * np.dot(X_poly.T, (y_pred - y)) + (alpha / n_samples) * np.sign(theta)\n",
      "  File \"/home/codespace/.local/lib/python3.10/site-packages/pandas/core/generic.py\", line 2102, in __array_ufunc__\n",
      "    return arraylike.array_ufunc(self, ufunc, method, *inputs, **kwargs)\n",
      "  File \"/home/codespace/.local/lib/python3.10/site-packages/pandas/core/arraylike.py\", line 273, in array_ufunc\n",
      "    result = maybe_dispatch_ufunc_to_dunder_op(self, ufunc, method, *inputs, **kwargs)\n",
      "  File \"ops_dispatch.pyx\", line 113, in pandas._libs.ops_dispatch.maybe_dispatch_ufunc_to_dunder_op\n",
      "  File \"/home/codespace/.local/lib/python3.10/site-packages/pandas/core/ops/common.py\", line 76, in new_method\n",
      "    return method(self, other)\n",
      "  File \"/home/codespace/.local/lib/python3.10/site-packages/pandas/core/arraylike.py\", line 198, in __rsub__\n",
      "    return self._arith_method(other, roperator.rsub)\n",
      "  File \"/home/codespace/.local/lib/python3.10/site-packages/pandas/core/frame.py\", line 7644, in _arith_method\n",
      "    self, other = self._align_for_op(other, axis, flex=True, level=None)\n",
      "  File \"/home/codespace/.local/lib/python3.10/site-packages/pandas/core/frame.py\", line 7875, in _align_for_op\n",
      "    right = to_series(right)\n",
      "  File \"/home/codespace/.local/lib/python3.10/site-packages/pandas/core/frame.py\", line 7867, in to_series\n",
      "    raise ValueError(\n",
      "ValueError: Unable to coerce to Series, length must be 1: given 800\n",
      "\n",
      "During handling of the above exception, another exception occurred:\n",
      "\n",
      "Traceback (most recent call last):\n",
      "  File \"/home/codespace/.local/lib/python3.10/site-packages/IPython/core/interactiveshell.py\", line 2120, in showtraceback\n",
      "    stb = self.InteractiveTB.structured_traceback(\n",
      "  File \"/home/codespace/.local/lib/python3.10/site-packages/IPython/core/ultratb.py\", line 1435, in structured_traceback\n",
      "    return FormattedTB.structured_traceback(\n",
      "  File \"/home/codespace/.local/lib/python3.10/site-packages/IPython/core/ultratb.py\", line 1326, in structured_traceback\n",
      "    return VerboseTB.structured_traceback(\n",
      "  File \"/home/codespace/.local/lib/python3.10/site-packages/IPython/core/ultratb.py\", line 1173, in structured_traceback\n",
      "    formatted_exception = self.format_exception_as_a_whole(etype, evalue, etb, number_of_lines_of_context,\n",
      "  File \"/home/codespace/.local/lib/python3.10/site-packages/IPython/core/ultratb.py\", line 1063, in format_exception_as_a_whole\n",
      "    self.get_records(etb, number_of_lines_of_context, tb_offset) if etb else []\n",
      "  File \"/home/codespace/.local/lib/python3.10/site-packages/IPython/core/ultratb.py\", line 1155, in get_records\n",
      "    FrameInfo(\n",
      "  File \"/home/codespace/.local/lib/python3.10/site-packages/IPython/core/ultratb.py\", line 780, in __init__\n",
      "    ix = inspect.getsourcelines(frame)\n",
      "  File \"/home/codespace/.python/current/lib/python3.10/inspect.py\", line 1129, in getsourcelines\n",
      "    lines, lnum = findsource(object)\n",
      "  File \"/home/codespace/.python/current/lib/python3.10/inspect.py\", line 950, in findsource\n",
      "    raise OSError('source code not available')\n",
      "OSError: source code not available\n"
     ]
    }
   ],
   "source": [
    "degree = 3\n",
    "alpha = 0.01\n",
    "num_iterations = 1000\n",
    "learning_rate = 0.01\n",
    "\n",
    "theta, cost = lasso_regression(X, Y, degree, alpha, num_iterations, learning_rate)\n",
    "\n",
    "print(theta)\n",
    "print(cost)"
   ]
  },
  {
   "cell_type": "code",
   "execution_count": null,
   "metadata": {},
   "outputs": [],
   "source": []
  }
 ],
 "metadata": {
  "kernelspec": {
   "display_name": "Python 3",
   "language": "python",
   "name": "python3"
  },
  "language_info": {
   "codemirror_mode": {
    "name": "ipython",
    "version": 3
   },
   "file_extension": ".py",
   "mimetype": "text/x-python",
   "name": "python",
   "nbconvert_exporter": "python",
   "pygments_lexer": "ipython3",
   "version": "3.10.8"
  },
  "orig_nbformat": 4
 },
 "nbformat": 4,
 "nbformat_minor": 2
}
